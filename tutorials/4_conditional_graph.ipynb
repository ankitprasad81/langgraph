{
 "cells": [
  {
   "cell_type": "markdown",
   "id": "f9f671e7",
   "metadata": {},
   "source": [
    "### Conditional Graph\n",
    "\n",
    "#### Objectives:\n",
    "1. Implement the ***condition logic*** to route the flow of data to different nodes.\n",
    "2. Use **START** and **END** nodes from `langgraph.graph` to manage entry and exit points explicitly.\n",
    "3. Design multiple nodes to perform different operations (addition, substraction).\n",
    "4. Create a ***Router*** node to handle the decision making and control graph flow.\n",
    "\n",
    "***Main Goal:*** How to use add `add_conditional_edges()` method. "
   ]
  },
  {
   "cell_type": "code",
   "execution_count": 1,
   "id": "57dcec85",
   "metadata": {},
   "outputs": [],
   "source": [
    "from typing import List, TypedDict\n",
    "from langgraph.graph import StateGraph, START, END"
   ]
  },
  {
   "cell_type": "code",
   "execution_count": 2,
   "id": "79449d97",
   "metadata": {},
   "outputs": [],
   "source": [
    "class AgentState(TypedDict):\n",
    "    \"\"\"State of the agent.\"\"\"\n",
    "    num1 : int\n",
    "    num2 : int\n",
    "    operator : str\n",
    "    result : int"
   ]
  },
  {
   "cell_type": "code",
   "execution_count": 3,
   "id": "33b37071",
   "metadata": {},
   "outputs": [],
   "source": [
    "def addition(state: AgentState) -> AgentState:\n",
    "    \"\"\"Perform addition.\"\"\"\n",
    "    state['result'] = state['num1'] + state['num2']\n",
    "    return state\n",
    "\n",
    "def subtraction(state: AgentState) -> AgentState:\n",
    "    \"\"\"Perform subtraction.\"\"\"\n",
    "    if state['num1'] < state['num2']:\n",
    "        state['result'] = state['num2'] - state['num1']\n",
    "    else:\n",
    "        state['result'] = state['num1'] - state['num2']\n",
    "    return state\n",
    "\n",
    "def decide_next_node(state: AgentState) -> str:\n",
    "    \"\"\"This node will select the next node based on the operator.\"\"\"\n",
    "    if state['operator'] == \"+\":\n",
    "        return \"addition_operation\"\n",
    "    elif state['operator'] == \"-\":\n",
    "        return \"subtraction_operation\"\n",
    "    else:\n",
    "        raise ValueError(f\"Unknown operator: {state['operator']}\")"
   ]
  },
  {
   "cell_type": "code",
   "execution_count": 4,
   "id": "8b1b035b",
   "metadata": {},
   "outputs": [],
   "source": [
    "graph = StateGraph(AgentState)\n",
    "\n",
    "graph.add_node(\"addition\", addition)\n",
    "graph.add_node(\"subtraction\", subtraction)\n",
    "graph.add_node(\"router\", lambda state: state)\n",
    "\n",
    "graph.add_edge(START, \"router\")\n",
    "graph.add_conditional_edges(\"router\", decide_next_node,\n",
    "                            {\n",
    "                              \"addition_operation\": \"addition\",\n",
    "                              \"subtraction_operation\": \"subtraction\"\n",
    "                          })\n",
    "\n",
    "graph.add_edge(\"addition\", END)\n",
    "graph.add_edge(\"subtraction\", END)\n",
    "\n",
    "app = graph.compile()"
   ]
  },
  {
   "cell_type": "code",
   "execution_count": 5,
   "id": "97a963c6",
   "metadata": {},
   "outputs": [
    {
     "data": {
      "image/png": "[encoded data removed]",
      "text/plain": [
       "<IPython.core.display.Image object>"
      ]
     },
     "metadata": {},
     "output_type": "display_data"
    }
   ],
   "source": [
    "from IPython.display import display, Image\n",
    "\n",
    "display(Image(app.get_graph().draw_mermaid_png()))"
   ]
  },
  {
   "cell_type": "code",
   "execution_count": 6,
   "id": "dcaf9175",
   "metadata": {},
   "outputs": [],
   "source": [
    "result = app.invoke({\n",
    "    'num1': 1,\n",
    "    'num2': 5,\n",
    "    'operator': '-'\n",
    "})"
   ]
  },
  {
   "cell_type": "code",
   "execution_count": 7,
   "id": "9364abc5",
   "metadata": {},
   "outputs": [
    {
     "data": {
      "text/plain": [
       "4"
      ]
     },
     "execution_count": 7,
     "metadata": {},
     "output_type": "execute_result"
    }
   ],
   "source": [
    "result['result']"
   ]
  }
 ],
 "metadata": {
  "kernelspec": {
   "display_name": ".venv",
   "language": "python",
   "name": "python3"
  },
  "language_info": {
   "codemirror_mode": {
    "name": "ipython",
    "version": 3
   },
   "file_extension": ".py",
   "mimetype": "text/x-python",
   "name": "python",
   "nbconvert_exporter": "python",
   "pygments_lexer": "ipython3",
   "version": "3.11.1"
  }
 },
 "nbformat": 4,
 "nbformat_minor": 5
}
