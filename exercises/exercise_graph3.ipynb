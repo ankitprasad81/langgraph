{
 "cells": [
  {
   "cell_type": "markdown",
   "id": "ee2134f6",
   "metadata": {},
   "source": [
    "## Task:\n",
    "\n",
    "1. Accept a user's name, age, and a list of their skills.\n",
    "2. Pass the state through **three nodes** that:\n",
    "    - **First Node**: Personalizes the name field with a greeting\n",
    "    - **Second Node**: Describe the user's age\n",
    "    - **Third Node**: List the user's skills in a formatted string\n",
    "3. The final output in a result should be a **combined message** in the below format:\n",
    "\n",
    "**Output**: Linda, welcome to the system! You are 31 years old! You have skills in: Python, Machine Learning and Langgraph!\n",
    "\n",
    "***Hint*** : You will need to use the add_edge method twice 😉 "
   ]
  },
  {
   "cell_type": "code",
   "execution_count": 1,
   "id": "329d0d04",
   "metadata": {},
   "outputs": [],
   "source": [
    "from typing import List, TypedDict\n",
    "from langgraph.graph import StateGraph"
   ]
  },
  {
   "cell_type": "code",
   "execution_count": 2,
   "id": "e00b8455",
   "metadata": {},
   "outputs": [],
   "source": [
    "class AgentState(TypedDict):\n",
    "    \"\"\"State of the agent.\"\"\"\n",
    "    name: str\n",
    "    age: str\n",
    "    skils: List[str]\n",
    "    result: str"
   ]
  },
  {
   "cell_type": "code",
   "execution_count": 3,
   "id": "c30970b0",
   "metadata": {},
   "outputs": [],
   "source": [
    "def first_node(state: AgentState) -> AgentState:\n",
    "    \"\"\"Personlizes the greeting with the name\"\"\"\n",
    "\n",
    "    state['result'] = f\"Hello {state['name']}!\"\n",
    "    return state\n",
    "\n",
    "def second_node(state: AgentState) -> AgentState:\n",
    "    \"\"\"Adds the age to the greeting\"\"\"\n",
    "    \n",
    "    state['result'] = f\"{state['result']} You are {int(state['age'])} years old.\"\n",
    "    return state\n",
    "\n",
    "def third_node(state: AgentState) -> AgentState:\n",
    "    \"\"\"Adds the skills to the greeting\"\"\"\n",
    "    \n",
    "    state['result'] = f\"{state['result']} Your skills are: {', '.join(state['skils'])}.\"\n",
    "    return state"
   ]
  },
  {
   "cell_type": "code",
   "execution_count": 4,
   "id": "8eb2b24d",
   "metadata": {},
   "outputs": [],
   "source": [
    "graph = StateGraph(AgentState)\n",
    "graph.add_node(\"personalize_name\", first_node)\n",
    "graph.add_node(\"age_description\", second_node)   # graph.add_node(\"age\", second_node) - Will throw an error. ValueError: 'age' is already being used as a state key\n",
    "graph.add_node(\"skillset\", third_node)\n",
    "\n",
    "graph.add_edge(\"personalize_name\", \"age_description\")\n",
    "graph.add_edge(\"age_description\", \"skillset\")\n",
    "\n",
    "graph.set_entry_point(\"personalize_name\")\n",
    "graph.set_finish_point(\"skillset\")\n",
    "\n",
    "app = graph.compile()"
   ]
  },
  {
   "cell_type": "code",
   "execution_count": 5,
   "id": "f54301a1",
   "metadata": {},
   "outputs": [
    {
     "data": {
      "image/png": "[encoded data removed]",
      "text/plain": [
       "<IPython.core.display.Image object>"
      ]
     },
     "metadata": {},
     "output_type": "display_data"
    }
   ],
   "source": [
    "from IPython.display import display, Image\n",
    "display(Image(app.get_graph().draw_mermaid_png()))"
   ]
  },
  {
   "cell_type": "code",
   "execution_count": 6,
   "id": "ea19a509",
   "metadata": {},
   "outputs": [],
   "source": [
    "result = app.invoke({\n",
    "    \"name\": \"Linda\",\n",
    "    \"age\": 30,\n",
    "    \"skils\": [\"Python\", \"Machine Learning\", \"Langgraph\"]\n",
    "})"
   ]
  },
  {
   "cell_type": "code",
   "execution_count": 7,
   "id": "8a8c24c7",
   "metadata": {},
   "outputs": [
    {
     "data": {
      "text/plain": [
       "'Hello Linda! You are 30 years old. Your skills are: Python, Machine Learning, Langgraph.'"
      ]
     },
     "execution_count": 7,
     "metadata": {},
     "output_type": "execute_result"
    }
   ],
   "source": [
    "result['result']"
   ]
  }
 ],
 "metadata": {
  "kernelspec": {
   "display_name": ".venv",
   "language": "python",
   "name": "python3"
  },
  "language_info": {
   "codemirror_mode": {
    "name": "ipython",
    "version": 3
   },
   "file_extension": ".py",
   "mimetype": "text/x-python",
   "name": "python",
   "nbconvert_exporter": "python",
   "pygments_lexer": "ipython3",
   "version": "3.11.1"
  }
 },
 "nbformat": 4,
 "nbformat_minor": 5
}
