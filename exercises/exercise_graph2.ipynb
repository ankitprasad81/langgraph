{
 "cells": [
  {
   "cell_type": "markdown",
   "id": "6b2d17b9",
   "metadata": {},
   "source": [
    "## Task:\n",
    "\n",
    "Create a **Graph** where you pass in a single list of integers along with a name and an operation. If the operation is a `+`, you **add**  the elements and if it is a `*`, you  **multiply** the elements, **all within the same node**\n",
    "\n",
    "**Input** : `{\"name\" : \"Amitabh Jain\", \"values\" : [1,2,3,4], \"operation\" : \"*\"}` \n",
    "\n",
    "**Output** : `\"Hi Amitabh Jain, your answer is: 24\"`"
   ]
  },
  {
   "cell_type": "code",
   "execution_count": 1,
   "id": "136be412",
   "metadata": {},
   "outputs": [],
   "source": [
    "from typing import TypedDict, List\n",
    "from operator import mul\n",
    "from langgraph.graph import StateGraph"
   ]
  },
  {
   "cell_type": "code",
   "execution_count": 2,
   "id": "28570f89",
   "metadata": {},
   "outputs": [],
   "source": [
    "class AgentState(TypedDict):\n",
    "    \"\"\"State schwma that accepts name string, values array and a operator to perform that action\"\"\"\n",
    "\n",
    "    name: str\n",
    "    values: List[int]\n",
    "    operator: str\n",
    "    output : str"
   ]
  },
  {
   "cell_type": "code",
   "execution_count": 3,
   "id": "633e7ef7",
   "metadata": {},
   "outputs": [],
   "source": [
    "def perform_operation(state: AgentState) -> AgentState:\n",
    "    \"\"\"Perform the operation on the values based on the operator\"\"\"\n",
    "    if state['operator'] == '+':\n",
    "        result = sum(state['values'])\n",
    "        state['output'] = f\"Hi {state['name']}, your answer is {result}.\"\n",
    "    elif state['operator'] == '*':\n",
    "        result = 1\n",
    "        for value in state['values']:\n",
    "            result = mul(result, value)\n",
    "        state['output'] = f\"Hi {state['name']}, your answer is {result}.\"\n",
    "    else:\n",
    "        raise ValueError(f\"Unknown operator: {state['operator']}\")\n",
    "    \n",
    "    return state"
   ]
  },
  {
   "cell_type": "code",
   "execution_count": 4,
   "id": "e3527901",
   "metadata": {},
   "outputs": [],
   "source": [
    "graph = StateGraph(AgentState)\n",
    "\n",
    "graph.add_node(\"perform_operation\", perform_operation)\n",
    "graph.set_entry_point(\"perform_operation\")\n",
    "graph.set_finish_point(\"perform_operation\")\n",
    "\n",
    "app = graph.compile()"
   ]
  },
  {
   "cell_type": "code",
   "execution_count": 5,
   "id": "a1bc78df",
   "metadata": {},
   "outputs": [
    {
     "data": {
      "image/png": "[encoded data removed]",
      "text/plain": [
       "<IPython.core.display.Image object>"
      ]
     },
     "metadata": {},
     "output_type": "display_data"
    }
   ],
   "source": [
    "from IPython.display import display, Image\n",
    "display(Image(app.get_graph().draw_mermaid_png()))"
   ]
  },
  {
   "cell_type": "code",
   "execution_count": 6,
   "id": "913b7416",
   "metadata": {},
   "outputs": [],
   "source": [
    "result = app.invoke({\n",
    "    \"name\" : \"Amitabh Jain\",\n",
    "    \"values\": [1, 2, 3, 4],\n",
    "    \"operator\": \"*\"\n",
    "})\n"
   ]
  },
  {
   "cell_type": "code",
   "execution_count": null,
   "id": "3fede4b7",
   "metadata": {},
   "outputs": [
    {
     "data": {
      "text/plain": [
       "'Hi Amitabh Jain, your answer is 24.'"
      ]
     },
     "execution_count": 7,
     "metadata": {},
     "output_type": "execute_result"
    }
   ],
   "source": [
    "result[\"output\"]"
   ]
  }
 ],
 "metadata": {
  "kernelspec": {
   "display_name": ".venv",
   "language": "python",
   "name": "python3"
  },
  "language_info": {
   "codemirror_mode": {
    "name": "ipython",
    "version": 3
   },
   "file_extension": ".py",
   "mimetype": "text/x-python",
   "name": "python",
   "nbconvert_exporter": "python",
   "pygments_lexer": "ipython3",
   "version": "3.11.1"
  }
 },
 "nbformat": 4,
 "nbformat_minor": 5
}
