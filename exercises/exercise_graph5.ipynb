{
 "cells": [
  {
   "attachments": {
    "image-2.png": {
     "image/png": "[encoded data removed]"
    }
   },
   "cell_type": "markdown",
   "id": "f1d2adf1",
   "metadata": {},
   "source": [
    "### Task: \n",
    "You have to build an **Automatic higher or lower game**. Refer to the diagram below.\n",
    "\n",
    "Set the bounds to between 1 to 20. The graph has to keep guessing (***The maximum guesses is 7***) where if the guest is correct, then it stops, but if not we keep looping until we hit the maximum limit of 7.\n",
    "\n",
    "Each time a number is guessed, the **hint node** should say `higher` or `lower` and the graph should continue for this information and guess the next guess accordingly.\n",
    "\n",
    "**Input** : `{\"player_name\" : \"Ravish\", \"guesses\" = [], \"attempts\" : [], \"low_bound\" : 1, \"upper_bound\" : 20}`\n",
    "\n",
    "***Hint*** : It will need to adjust its bound after every guess based on the hint provided by the **hint node**\n",
    "\n",
    "![image-2.png](attachment:image-2.png)"
   ]
  },
  {
   "cell_type": "code",
   "execution_count": 1,
   "id": "dcd39e99",
   "metadata": {},
   "outputs": [],
   "source": [
    "from typing import List, TypedDict\n",
    "from langgraph.graph import StateGraph, END\n",
    "import random"
   ]
  },
  {
   "cell_type": "code",
   "execution_count": 2,
   "id": "99d210ce",
   "metadata": {},
   "outputs": [],
   "source": [
    "class AgentState(TypedDict):\n",
    "    player_name: str\n",
    "    guesses: List[int]\n",
    "    attempts: int\n",
    "    low_bound: int\n",
    "    upper_bound: int\n",
    "    target : int\n",
    "    hint : str\n"
   ]
  },
  {
   "cell_type": "code",
   "execution_count": 3,
   "id": "32484402",
   "metadata": {},
   "outputs": [],
   "source": [
    "def setup_node(state: AgentState) -> AgentState:\n",
    "    state['player_name'] = f\"Hi {state['player_name']}, Let's play!\"\n",
    "    state['target'] = random.randint(1, 20)\n",
    "    state['guesses'] = []\n",
    "    state['attempts'] = 0\n",
    "    state['low_bound'] = 1\n",
    "    state['upper_bound'] = 20\n",
    "    state['hint'] = \"Game started! Try to guess the number!\"\n",
    "\n",
    "    print(f\"{state['player_name']}, the game has begun. The number is between 1 to 20\")\n",
    "    return state\n"
   ]
  },
  {
   "cell_type": "code",
   "execution_count": 4,
   "id": "39502c4c",
   "metadata": {},
   "outputs": [],
   "source": [
    "def guess_node(state: AgentState) -> AgentState:\n",
    "    \"\"\" This state will guess the target number \"\"\"\n",
    "    possible_guesses = [i for i in range(state[\"low_bound\"], state[\"upper_bound\"] + 1) if i not in state[\"guesses\"]]\n",
    "    if possible_guesses:\n",
    "        guess = random.choice(possible_guesses)\n",
    "    else:\n",
    "        \n",
    "        guess = random.randint(state[\"low_bound\"], state[\"upper_bound\"])\n",
    "    \n",
    "    state[\"guesses\"].append(guess)\n",
    "    state[\"attempts\"] += 1\n",
    "    print(f\"Attempt {state['attempts']}: Guessing {guess} (Current range: {state['low_bound']}-{state['upper_bound']})\")\n",
    "    return state"
   ]
  },
  {
   "cell_type": "code",
   "execution_count": 5,
   "id": "c1d65e69",
   "metadata": {},
   "outputs": [],
   "source": [
    "def hint_node(state: AgentState) -> AgentState:\n",
    "    \"\"\"Here we provide a hint based on the last guess and update the bounds\"\"\"\n",
    "    latest_guess = state[\"guesses\"][-1]\n",
    "    target = state[\"target\"]\n",
    "    \n",
    "    if latest_guess < target:\n",
    "        state[\"hint\"] = f\"The number {latest_guess} is too low. Try higher!\"\n",
    "        \n",
    "        state[\"low_bound\"] = max(state[\"low_bound\"], latest_guess + 1)\n",
    "        print(f\"Hint: {state['hint']}\")\n",
    "        \n",
    "    elif latest_guess > target:\n",
    "        state[\"hint\"] = f\"The number {latest_guess} is too high. Try lower!\"\n",
    "      \n",
    "        state[\"upper_bound\"] = min(state[\"upper_bound\"], latest_guess - 1)\n",
    "        print(f\"Hint: {state['hint']}\")\n",
    "    else:\n",
    "        state[\"hint\"] = f\"Correct! You found the number {target} in {state['attempts']} attempts.\"\n",
    "        print(f\"Success! {state['hint']}\")\n",
    "    \n",
    "    return state"
   ]
  },
  {
   "cell_type": "code",
   "execution_count": 6,
   "id": "550761ff",
   "metadata": {},
   "outputs": [],
   "source": [
    "def should_continue(state: AgentState) -> str:\n",
    "    \"\"\"Determine if we should continue guessing or end the game\"\"\"\n",
    "    \n",
    "    # There are 2 end conditions - either 7 is reached or the correct number is guessed\n",
    "    \n",
    "    latest_guess = state[\"guesses\"][-1]\n",
    "    if latest_guess == state[\"target\"]:\n",
    "        print(f\"GAME OVER: Number found!\")\n",
    "        return \"end\"\n",
    "    elif state[\"attempts\"] >= 7:\n",
    "        print(f\"GAME OVER: Maximum attempts reached! The number was {state['target']}\")\n",
    "        return \"end\"\n",
    "    else:\n",
    "        print(f\"CONTINUING: {state['attempts']}/7 attempts used\")\n",
    "        return \"continue\""
   ]
  },
  {
   "cell_type": "code",
   "execution_count": 7,
   "id": "43a79218",
   "metadata": {},
   "outputs": [],
   "source": [
    "graph = StateGraph(AgentState)\n",
    "graph.add_node(\"setup\", setup_node)\n",
    "graph.add_node(\"guess\", guess_node)\n",
    "graph.add_node(\"hint_node\", hint_node)  \n",
    "\n",
    "\n",
    "graph.add_edge(\"setup\", \"guess\")\n",
    "graph.add_edge(\"guess\", \"hint_node\")  \n",
    "\n",
    "\n",
    "graph.add_conditional_edges(\n",
    "    \"hint_node\", \n",
    "    should_continue,\n",
    "    {\n",
    "        \"continue\": \"guess\",\n",
    "        \"end\": END\n",
    "    }\n",
    ")\n",
    "\n",
    "graph.set_entry_point(\"setup\")\n",
    "app = graph.compile()"
   ]
  },
  {
   "cell_type": "code",
   "execution_count": 8,
   "id": "c41cc081",
   "metadata": {},
   "outputs": [
    {
     "data": {
      "image/png": "[encoded data removed]",
      "text/plain": [
       "<IPython.core.display.Image object>"
      ]
     },
     "metadata": {},
     "output_type": "display_data"
    }
   ],
   "source": [
    "from IPython.display import Image, display\n",
    "display(Image(app.get_graph().draw_mermaid_png()))"
   ]
  },
  {
   "cell_type": "code",
   "execution_count": 9,
   "id": "81c85fcd",
   "metadata": {},
   "outputs": [
    {
     "name": "stdout",
     "output_type": "stream",
     "text": [
      "Hi Ravish, Let's play!, the game has begun. The number is between 1 to 20\n",
      "Attempt 1: Guessing 6 (Current range: 1-20)\n",
      "Hint: The number 6 is too low. Try higher!\n",
      "CONTINUING: 1/7 attempts used\n",
      "Attempt 2: Guessing 12 (Current range: 7-20)\n",
      "Hint: The number 12 is too low. Try higher!\n",
      "CONTINUING: 2/7 attempts used\n",
      "Attempt 3: Guessing 15 (Current range: 13-20)\n",
      "Hint: The number 15 is too high. Try lower!\n",
      "CONTINUING: 3/7 attempts used\n",
      "Attempt 4: Guessing 13 (Current range: 13-14)\n",
      "Hint: The number 13 is too low. Try higher!\n",
      "CONTINUING: 4/7 attempts used\n",
      "Attempt 5: Guessing 14 (Current range: 14-14)\n",
      "Success! Correct! You found the number 14 in 5 attempts.\n",
      "GAME OVER: Number found!\n"
     ]
    }
   ],
   "source": [
    "result = app.invoke({\"player_name\": \"Ravish\", \"guesses\": [], \"attempts\": 0, \"low_bound\": 1, \"upper_bound\": 20})"
   ]
  }
 ],
 "metadata": {
  "kernelspec": {
   "display_name": ".venv",
   "language": "python",
   "name": "python3"
  },
  "language_info": {
   "codemirror_mode": {
    "name": "ipython",
    "version": 3
   },
   "file_extension": ".py",
   "mimetype": "text/x-python",
   "name": "python",
   "nbconvert_exporter": "python",
   "pygments_lexer": "ipython3",
   "version": "3.11.1"
  }
 },
 "nbformat": 4,
 "nbformat_minor": 5
}
