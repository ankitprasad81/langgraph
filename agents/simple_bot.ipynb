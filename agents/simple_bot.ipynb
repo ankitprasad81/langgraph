{
 "cells": [
  {
   "cell_type": "markdown",
   "id": "ac7f0612",
   "metadata": {},
   "source": [
    "### Objective:\n",
    "1. Define **state** structure with list of **HumanMessage** objects.\n",
    "2. Initialize a **llama-3.1-8b-instant** model using **Langchain's ChatGroq**.\n",
    "3. Sending and handling different types of messages\n",
    "4. Building and compiling the graph of the Agents\n",
    "\n",
    "***Main Goal***: How to integrate LLMs in our graphs"
   ]
  },
  {
   "cell_type": "code",
   "execution_count": 2,
   "id": "c50127de",
   "metadata": {},
   "outputs": [
    {
     "data": {
      "text/plain": [
       "True"
      ]
     },
     "execution_count": 2,
     "metadata": {},
     "output_type": "execute_result"
    }
   ],
   "source": [
    "# Import libraries\n",
    "from typing import TypedDict, List\n",
    "from langchain_groq import ChatGroq\n",
    "from langchain_core.messages import HumanMessage\n",
    "from langgraph.graph import StateGraph, START, END\n",
    "from dotenv import load_dotenv\n",
    "\n",
    "load_dotenv()"
   ]
  },
  {
   "cell_type": "code",
   "execution_count": 3,
   "id": "eb645d59",
   "metadata": {},
   "outputs": [],
   "source": [
    "class AgentState(TypedDict):\n",
    "    messages : List[HumanMessage]\n",
    "\n",
    "llm= ChatGroq(model=\"llama-3.1-8b-instant\")"
   ]
  },
  {
   "cell_type": "code",
   "execution_count": 4,
   "id": "7675ab9f",
   "metadata": {},
   "outputs": [],
   "source": [
    "def process(state: AgentState) -> AgentState:\n",
    "    response = llm.invoke(state['messages'])\n",
    "    print(f\"AI response: {response.content}\")\n",
    "    return state"
   ]
  },
  {
   "cell_type": "code",
   "execution_count": 5,
   "id": "f2c49e2a",
   "metadata": {},
   "outputs": [],
   "source": [
    "# Creating the graph\n",
    "\n",
    "graph = StateGraph(AgentState)\n",
    "\n",
    "graph.add_node(\"process\", process)\n",
    "graph.add_edge(START, \"process\")\n",
    "graph.add_edge(\"process\", END)\n",
    "\n",
    "app = graph.compile()"
   ]
  },
  {
   "cell_type": "code",
   "execution_count": null,
   "id": "014a10a9",
   "metadata": {},
   "outputs": [
    {
     "name": "stdout",
     "output_type": "stream",
     "text": [
      "AI response: I'm doing well, thank you for asking. I'm a large language model, so I don't have emotions or feelings in the same way that humans do, but I'm functioning properly and ready to help with any questions or tasks you may have. How about you? How's your day going?\n"
     ]
    },
    {
     "data": {
      "text/plain": [
       "{'messages': [HumanMessage(content='Hi How are you?', additional_kwargs={}, response_metadata={})]}"
      ]
     },
     "execution_count": 6,
     "metadata": {},
     "output_type": "execute_result"
    }
   ],
   "source": [
    "# Test if the agent is working properly\n",
    "\n",
    "user_input = input(\"Enter something: \")\n",
    "app.invoke(\n",
    "    {\n",
    "        \"messages\" : [HumanMessage(content=user_input)]\n",
    "    }\n",
    ")"
   ]
  },
  {
   "cell_type": "code",
   "execution_count": null,
   "id": "666c7cca",
   "metadata": {},
   "outputs": [
    {
     "name": "stdout",
     "output_type": "stream",
     "text": [
      "AI response: How can I assist you today?\n",
      "AI response: I'm an artificial intelligence model known as a large language model (LLM) or a conversational AI. I'm a computer program designed to process and understand human language, allowing me to communicate with users like you through text-based conversations.\n",
      "\n",
      "I don't have personal experiences, emotions, or consciousness like humans do. My purpose is to provide information, answer questions, and assist with tasks to the best of my abilities based on my training data.\n",
      "\n",
      "I can help with a wide range of topics and tasks, such as:\n",
      "\n",
      "- Answering questions on various subjects\n",
      "- Generating text on a given topic or prompt\n",
      "- Summarizing long pieces of text\n",
      "- Providing definitions and explanations for words and concepts\n",
      "- Offering suggestions and ideas\n",
      "- Translating text from one language to another\n",
      "- And more!\n",
      "\n",
      "I'm constantly learning and improving my language abilities through machine learning algorithms and the vast amount of data I've been trained on. However, I'm not perfect and can make mistakes or have limitations in certain areas.\n",
      "\n",
      "How can I assist you today?\n",
      "AI response: Goodbye. Have a nice day!\n"
     ]
    }
   ],
   "source": [
    "# Lets loop in the while loop to continue the chat until user explicitly say 'exit'AgentState\n",
    "\n",
    "user_input = input(\"Enter: \")\n",
    "while  user_input.lower != \"exit\":\n",
    "    app.invoke({\n",
    "        \"messages\" : [HumanMessage(content=user_input)]\n",
    "    })\n",
    "    user_input = input(\"Enter: \")"
   ]
  },
  {
   "cell_type": "code",
   "execution_count": null,
   "id": "d2055e3e",
   "metadata": {},
   "outputs": [],
   "source": []
  },
  {
   "cell_type": "code",
   "execution_count": null,
   "id": "85d81d30",
   "metadata": {},
   "outputs": [],
   "source": []
  }
 ],
 "metadata": {
  "kernelspec": {
   "display_name": ".venv",
   "language": "python",
   "name": "python3"
  },
  "language_info": {
   "codemirror_mode": {
    "name": "ipython",
    "version": 3
   },
   "file_extension": ".py",
   "mimetype": "text/x-python",
   "name": "python",
   "nbconvert_exporter": "python",
   "pygments_lexer": "ipython3",
   "version": "3.11.1"
  }
 },
 "nbformat": 4,
 "nbformat_minor": 5
}
